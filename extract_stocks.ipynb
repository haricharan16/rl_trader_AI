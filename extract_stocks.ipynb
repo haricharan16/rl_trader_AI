{
 "cells": [
  {
   "cell_type": "code",
   "execution_count": 6,
   "metadata": {},
   "outputs": [],
   "source": [
    "from selenium import webdriver\n",
    "from selenium.webdriver.common.by import By\n",
    "from selenium.webdriver.common.keys import Keys\n",
    "from selenium.webdriver.support import expected_conditions as EC\n",
    "from selenium.webdriver.support.ui import WebDriverWait\n",
    "\n",
    "from time import sleep, time\n",
    "\n",
    "from tqdm import tqdm\n",
    "\n",
    "import os"
   ]
  },
  {
   "cell_type": "markdown",
   "metadata": {},
   "source": [
    "## Opening Browser"
   ]
  },
  {
   "cell_type": "code",
   "execution_count": 7,
   "metadata": {},
   "outputs": [],
   "source": [
    "width = 1920\n",
    "height = 1080\n",
    "\n",
    "BASE = \"https://www.nasdaq.com\""
   ]
  },
  {
   "cell_type": "code",
   "execution_count": 8,
   "metadata": {},
   "outputs": [],
   "source": [
    "options = webdriver.ChromeOptions()\n",
    "# Redirect downloads to particular directory in case of link\n",
    "options.add_experimental_option(\"prefs\", {\n",
    "  \"profile.default_content_settings.popups\": 0,\n",
    "  \"download.prompt_for_download\": False,\n",
    "  \"download.default_directory\": r\"~/Desktop/StockData\", # This doesn't work with buttons, set download location manually on browser\n",
    "})\n",
    "\n",
    "driver = webdriver.Chrome(options=options)\n",
    "driver.set_window_size(width , height)"
   ]
  },
  {
   "cell_type": "markdown",
   "metadata": {},
   "source": [
    "## Visiting website and accessing NASDAQ stock data"
   ]
  },
  {
   "cell_type": "code",
   "execution_count": 10,
   "metadata": {},
   "outputs": [],
   "source": [
    "driver.get(BASE+\"/market-activity/quotes/nasdaq-ndx-index\")"
   ]
  },
  {
   "cell_type": "code",
   "execution_count": 11,
   "metadata": {},
   "outputs": [
    {
     "data": {
      "text/plain": [
       "{'AAPL': 'https://www.nasdaq.com/market-activity/stocks/aapl',\n",
       " 'ABNB': 'https://www.nasdaq.com/market-activity/stocks/abnb',\n",
       " 'ADBE': 'https://www.nasdaq.com/market-activity/stocks/adbe',\n",
       " 'ADI': 'https://www.nasdaq.com/market-activity/stocks/adi',\n",
       " 'ADP': 'https://www.nasdaq.com/market-activity/stocks/adp',\n",
       " 'ADSK': 'https://www.nasdaq.com/market-activity/stocks/adsk',\n",
       " 'AEP': 'https://www.nasdaq.com/market-activity/stocks/aep',\n",
       " 'AMAT': 'https://www.nasdaq.com/market-activity/stocks/amat',\n",
       " 'AMD': 'https://www.nasdaq.com/market-activity/stocks/amd',\n",
       " 'AMGN': 'https://www.nasdaq.com/market-activity/stocks/amgn',\n",
       " 'AMZN': 'https://www.nasdaq.com/market-activity/stocks/amzn',\n",
       " 'ANSS': 'https://www.nasdaq.com/market-activity/stocks/anss',\n",
       " 'ASML': 'https://www.nasdaq.com/market-activity/stocks/asml',\n",
       " 'AVGO': 'https://www.nasdaq.com/market-activity/stocks/avgo',\n",
       " 'AZN': 'https://www.nasdaq.com/market-activity/stocks/azn',\n",
       " 'BIIB': 'https://www.nasdaq.com/market-activity/stocks/biib',\n",
       " 'BKNG': 'https://www.nasdaq.com/market-activity/stocks/bkng',\n",
       " 'BKR': 'https://www.nasdaq.com/market-activity/stocks/bkr',\n",
       " 'CCEP': 'https://www.nasdaq.com/market-activity/stocks/ccep',\n",
       " 'CDNS': 'https://www.nasdaq.com/market-activity/stocks/cdns',\n",
       " 'CDW': 'https://www.nasdaq.com/market-activity/stocks/cdw',\n",
       " 'CEG': 'https://www.nasdaq.com/market-activity/stocks/ceg',\n",
       " 'CHTR': 'https://www.nasdaq.com/market-activity/stocks/chtr',\n",
       " 'CMCSA': 'https://www.nasdaq.com/market-activity/stocks/cmcsa',\n",
       " 'COST': 'https://www.nasdaq.com/market-activity/stocks/cost',\n",
       " 'CPRT': 'https://www.nasdaq.com/market-activity/stocks/cprt',\n",
       " 'CRWD': 'https://www.nasdaq.com/market-activity/stocks/crwd',\n",
       " 'CSCO': 'https://www.nasdaq.com/market-activity/stocks/csco',\n",
       " 'CSGP': 'https://www.nasdaq.com/market-activity/stocks/csgp',\n",
       " 'CSX': 'https://www.nasdaq.com/market-activity/stocks/csx',\n",
       " 'CTAS': 'https://www.nasdaq.com/market-activity/stocks/ctas',\n",
       " 'CTSH': 'https://www.nasdaq.com/market-activity/stocks/ctsh',\n",
       " 'DASH': 'https://www.nasdaq.com/market-activity/stocks/dash',\n",
       " 'DDOG': 'https://www.nasdaq.com/market-activity/stocks/ddog',\n",
       " 'DLTR': 'https://www.nasdaq.com/market-activity/stocks/dltr',\n",
       " 'DXCM': 'https://www.nasdaq.com/market-activity/stocks/dxcm',\n",
       " 'EA': 'https://www.nasdaq.com/market-activity/stocks/ea',\n",
       " 'EXC': 'https://www.nasdaq.com/market-activity/stocks/exc',\n",
       " 'FANG': 'https://www.nasdaq.com/market-activity/stocks/fang',\n",
       " 'FAST': 'https://www.nasdaq.com/market-activity/stocks/fast',\n",
       " 'FTNT': 'https://www.nasdaq.com/market-activity/stocks/ftnt',\n",
       " 'GEHC': 'https://www.nasdaq.com/market-activity/stocks/gehc',\n",
       " 'GFS': 'https://www.nasdaq.com/market-activity/stocks/gfs',\n",
       " 'GILD': 'https://www.nasdaq.com/market-activity/stocks/gild',\n",
       " 'GOOG': 'https://www.nasdaq.com/market-activity/stocks/goog',\n",
       " 'GOOGL': 'https://www.nasdaq.com/market-activity/stocks/googl',\n",
       " 'HON': 'https://www.nasdaq.com/market-activity/stocks/hon',\n",
       " 'IDXX': 'https://www.nasdaq.com/market-activity/stocks/idxx',\n",
       " 'ILMN': 'https://www.nasdaq.com/market-activity/stocks/ilmn',\n",
       " 'INTC': 'https://www.nasdaq.com/market-activity/stocks/intc',\n",
       " 'INTU': 'https://www.nasdaq.com/market-activity/stocks/intu',\n",
       " 'ISRG': 'https://www.nasdaq.com/market-activity/stocks/isrg',\n",
       " 'KDP': 'https://www.nasdaq.com/market-activity/stocks/kdp',\n",
       " 'KHC': 'https://www.nasdaq.com/market-activity/stocks/khc',\n",
       " 'KLAC': 'https://www.nasdaq.com/market-activity/stocks/klac',\n",
       " 'LIN': 'https://www.nasdaq.com/market-activity/stocks/lin',\n",
       " 'LRCX': 'https://www.nasdaq.com/market-activity/stocks/lrcx',\n",
       " 'LULU': 'https://www.nasdaq.com/market-activity/stocks/lulu',\n",
       " 'MAR': 'https://www.nasdaq.com/market-activity/stocks/mar',\n",
       " 'MCHP': 'https://www.nasdaq.com/market-activity/stocks/mchp',\n",
       " 'MDB': 'https://www.nasdaq.com/market-activity/stocks/mdb',\n",
       " 'MDLZ': 'https://www.nasdaq.com/market-activity/stocks/mdlz',\n",
       " 'MELI': 'https://www.nasdaq.com/market-activity/stocks/meli',\n",
       " 'META': 'https://www.nasdaq.com/market-activity/stocks/meta',\n",
       " 'MNST': 'https://www.nasdaq.com/market-activity/stocks/mnst',\n",
       " 'MRNA': 'https://www.nasdaq.com/market-activity/stocks/mrna',\n",
       " 'MRVL': 'https://www.nasdaq.com/market-activity/stocks/mrvl',\n",
       " 'MSFT': 'https://www.nasdaq.com/market-activity/stocks/msft',\n",
       " 'MU': 'https://www.nasdaq.com/market-activity/stocks/mu',\n",
       " 'NFLX': 'https://www.nasdaq.com/market-activity/stocks/nflx',\n",
       " 'NVDA': 'https://www.nasdaq.com/market-activity/stocks/nvda',\n",
       " 'NXPI': 'https://www.nasdaq.com/market-activity/stocks/nxpi',\n",
       " 'ODFL': 'https://www.nasdaq.com/market-activity/stocks/odfl',\n",
       " 'ON': 'https://www.nasdaq.com/market-activity/stocks/on',\n",
       " 'ORLY': 'https://www.nasdaq.com/market-activity/stocks/orly',\n",
       " 'PANW': 'https://www.nasdaq.com/market-activity/stocks/panw',\n",
       " 'PAYX': 'https://www.nasdaq.com/market-activity/stocks/payx',\n",
       " 'PCAR': 'https://www.nasdaq.com/market-activity/stocks/pcar',\n",
       " 'PDD': 'https://www.nasdaq.com/market-activity/stocks/pdd',\n",
       " 'PEP': 'https://www.nasdaq.com/market-activity/stocks/pep',\n",
       " 'PYPL': 'https://www.nasdaq.com/market-activity/stocks/pypl',\n",
       " 'QCOM': 'https://www.nasdaq.com/market-activity/stocks/qcom',\n",
       " 'REGN': 'https://www.nasdaq.com/market-activity/stocks/regn',\n",
       " 'ROP': 'https://www.nasdaq.com/market-activity/stocks/rop',\n",
       " 'ROST': 'https://www.nasdaq.com/market-activity/stocks/rost',\n",
       " 'SBUX': 'https://www.nasdaq.com/market-activity/stocks/sbux',\n",
       " 'SIRI': 'https://www.nasdaq.com/market-activity/stocks/siri',\n",
       " 'SNPS': 'https://www.nasdaq.com/market-activity/stocks/snps',\n",
       " 'TEAM': 'https://www.nasdaq.com/market-activity/stocks/team',\n",
       " 'TMUS': 'https://www.nasdaq.com/market-activity/stocks/tmus',\n",
       " 'TSLA': 'https://www.nasdaq.com/market-activity/stocks/tsla',\n",
       " 'TTD': 'https://www.nasdaq.com/market-activity/stocks/ttd',\n",
       " 'TTWO': 'https://www.nasdaq.com/market-activity/stocks/ttwo',\n",
       " 'TXN': 'https://www.nasdaq.com/market-activity/stocks/txn',\n",
       " 'VRSK': 'https://www.nasdaq.com/market-activity/stocks/vrsk',\n",
       " 'VRTX': 'https://www.nasdaq.com/market-activity/stocks/vrtx',\n",
       " 'WBA': 'https://www.nasdaq.com/market-activity/stocks/wba',\n",
       " 'WBD': 'https://www.nasdaq.com/market-activity/stocks/wbd',\n",
       " 'WDAY': 'https://www.nasdaq.com/market-activity/stocks/wday',\n",
       " 'XEL': 'https://www.nasdaq.com/market-activity/stocks/xel',\n",
       " 'ZS': 'https://www.nasdaq.com/market-activity/stocks/zs'}"
      ]
     },
     "execution_count": 11,
     "metadata": {},
     "output_type": "execute_result"
    }
   ],
   "source": [
    "stocks = driver.find_elements(By.XPATH,'/html/body/div[2]/div/main/div[2]/article/div[2]/div/div[3]/div[3]/div[2]/table/tbody/tr/th[1]/a')\n",
    "\n",
    "stock_links = dict()\n",
    "for stock in stocks:\n",
    "    #print(stock.text)\n",
    "    \n",
    "    stock_links[stock.text] = stock.get_attribute('href')\n",
    "    \n",
    "stock_links"
   ]
  },
  {
   "cell_type": "markdown",
   "metadata": {},
   "source": [
    "## Downloading each stock data"
   ]
  },
  {
   "cell_type": "code",
   "execution_count": 13,
   "metadata": {},
   "outputs": [],
   "source": [
    "def download_dataset(link):\n",
    "    # click button labelled \"max\" to get 10 years of data\n",
    "    driver.get(link+\"/historical\")\n",
    "    \n",
    "    button = WebDriverWait(driver, 5).until(EC.visibility_of_element_located((By.XPATH,'/html/body/div[2]/div/main/div[2]/div[4]/div[3]/div/div[1]/div/div[1]/div[3]/div/div/div/button[6]')))\n",
    "    button.click()\n",
    "    \n",
    "    driver.find_element(By.XPATH,'/html/body/div[2]/div/main/div[2]/div[4]/div[3]/div/div[1]/div/div[1]/div[3]/button').click()\n",
    "    sleep(3)"
   ]
  },
  {
   "cell_type": "code",
   "execution_count": 14,
   "metadata": {},
   "outputs": [
    {
     "name": "stderr",
     "output_type": "stream",
     "text": [
      "100%|██████████| 101/101 [13:14<00:00,  7.87s/it]\n"
     ]
    }
   ],
   "source": [
    "for link in tqdm(list(stock_links.values())):\n",
    "    download_dataset(link)"
   ]
  },
  {
   "cell_type": "code",
   "execution_count": 32,
   "metadata": {},
   "outputs": [],
   "source": [
    "driver.quit()"
   ]
  },
  {
   "cell_type": "markdown",
   "metadata": {},
   "source": [
    "## Renaming Files"
   ]
  },
  {
   "cell_type": "code",
   "execution_count": 31,
   "metadata": {},
   "outputs": [],
   "source": [
    "directory = 'DATA_10y/'\n",
    "files = os.listdir(directory)\n",
    "files.sort(key=lambda x: os.path.getmtime(os.path.join(directory, x)))\n",
    "\n",
    "for file, stock in zip(files[1:], stock_links.keys()):\n",
    "    if file != \".DS_Store\":\n",
    "        old_path = os.path.join(directory, file)\n",
    "        new_path = os.path.join(directory, stock + \".csv\")\n",
    "\n",
    "        os.rename(old_path, new_path)\n"
   ]
  }
 ],
 "metadata": {
  "kernelspec": {
   "display_name": "base",
   "language": "python",
   "name": "python3"
  },
  "language_info": {
   "codemirror_mode": {
    "name": "ipython",
    "version": 3
   },
   "file_extension": ".py",
   "mimetype": "text/x-python",
   "name": "python",
   "nbconvert_exporter": "python",
   "pygments_lexer": "ipython3",
   "version": "3.11.7"
  }
 },
 "nbformat": 4,
 "nbformat_minor": 2
}
