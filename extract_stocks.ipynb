{
 "cells": [
  {
   "cell_type": "code",
   "execution_count": 1,
   "metadata": {},
   "outputs": [],
   "source": [
    "from selenium import webdriver\n",
    "from selenium.webdriver.common.by import By\n",
    "from selenium.webdriver.common.keys import Keys\n",
    "from selenium.webdriver.support import expected_conditions as EC\n",
    "from selenium.webdriver.support.ui import WebDriverWait\n",
    "\n",
    "from time import sleep, time\n",
    "\n",
    "from tqdm import tqdm\n",
    "\n",
    "import os\n",
    "import pandas as pd\n",
    "from shutil import copyfile"
   ]
  },
  {
   "cell_type": "markdown",
   "metadata": {},
   "source": [
    "## Opening Browser"
   ]
  },
  {
   "cell_type": "code",
   "execution_count": 2,
   "metadata": {},
   "outputs": [],
   "source": [
    "width = 1920\n",
    "height = 1080"
   ]
  },
  {
   "cell_type": "code",
   "execution_count": 3,
   "metadata": {},
   "outputs": [],
   "source": [
    "options = webdriver.ChromeOptions()\n",
    "# Redirect downloads to particular directory in case of link\n",
    "options.add_experimental_option(\"prefs\", {\n",
    "  \"profile.default_content_settings.popups\": 0,\n",
    "  \"download.prompt_for_download\": False,\n",
    "  \"download.default_directory\": r\"~/Desktop/rl_trader_AI/data/\", # This doesn't work with buttons, set download location manually on browser\n",
    "})\n",
    "\n",
    "driver = webdriver.Chrome(options=options)\n",
    "driver.set_window_size(width , height)"
   ]
  },
  {
   "cell_type": "markdown",
   "metadata": {},
   "source": [
    "## Visiting website and accessing NASDAQ stock data"
   ]
  },
  {
   "cell_type": "code",
   "execution_count": 4,
   "metadata": {},
   "outputs": [],
   "source": [
    "driver.get(\"https://www.nasdaq.com/market-activity/quotes/nasdaq-ndx-index\")"
   ]
  },
  {
   "cell_type": "code",
   "execution_count": 5,
   "metadata": {},
   "outputs": [
    {
     "data": {
      "text/plain": [
       "['AAPL',\n",
       " 'ABNB',\n",
       " 'ADBE',\n",
       " 'ADI',\n",
       " 'ADP',\n",
       " 'ADSK',\n",
       " 'AEP',\n",
       " 'AMAT',\n",
       " 'AMD',\n",
       " 'AMGN',\n",
       " 'AMZN',\n",
       " 'ANSS',\n",
       " 'ASML',\n",
       " 'AVGO',\n",
       " 'AZN',\n",
       " 'BIIB',\n",
       " 'BKNG',\n",
       " 'BKR',\n",
       " 'CCEP',\n",
       " 'CDNS',\n",
       " 'CDW',\n",
       " 'CEG',\n",
       " 'CHTR',\n",
       " 'CMCSA',\n",
       " 'COST',\n",
       " 'CPRT',\n",
       " 'CRWD',\n",
       " 'CSCO',\n",
       " 'CSGP',\n",
       " 'CSX',\n",
       " 'CTAS',\n",
       " 'CTSH',\n",
       " 'DASH',\n",
       " 'DDOG',\n",
       " 'DLTR',\n",
       " 'DXCM',\n",
       " 'EA',\n",
       " 'EXC',\n",
       " 'FANG',\n",
       " 'FAST',\n",
       " 'FTNT',\n",
       " 'GEHC',\n",
       " 'GFS',\n",
       " 'GILD',\n",
       " 'GOOG',\n",
       " 'GOOGL',\n",
       " 'HON',\n",
       " 'IDXX',\n",
       " 'ILMN',\n",
       " 'INTC',\n",
       " 'INTU',\n",
       " 'ISRG',\n",
       " 'KDP',\n",
       " 'KHC',\n",
       " 'KLAC',\n",
       " 'LIN',\n",
       " 'LRCX',\n",
       " 'LULU',\n",
       " 'MAR',\n",
       " 'MCHP',\n",
       " 'MDB',\n",
       " 'MDLZ',\n",
       " 'MELI',\n",
       " 'META',\n",
       " 'MNST',\n",
       " 'MRNA',\n",
       " 'MRVL',\n",
       " 'MSFT',\n",
       " 'MU',\n",
       " 'NFLX',\n",
       " 'NVDA',\n",
       " 'NXPI',\n",
       " 'ODFL',\n",
       " 'ON',\n",
       " 'ORLY',\n",
       " 'PANW',\n",
       " 'PAYX',\n",
       " 'PCAR',\n",
       " 'PDD',\n",
       " 'PEP',\n",
       " 'PYPL',\n",
       " 'QCOM',\n",
       " 'REGN',\n",
       " 'ROP',\n",
       " 'ROST',\n",
       " 'SBUX',\n",
       " 'SIRI',\n",
       " 'SNPS',\n",
       " 'TEAM',\n",
       " 'TMUS',\n",
       " 'TSLA',\n",
       " 'TTD',\n",
       " 'TTWO',\n",
       " 'TXN',\n",
       " 'VRSK',\n",
       " 'VRTX',\n",
       " 'WBA',\n",
       " 'WBD',\n",
       " 'WDAY',\n",
       " 'XEL',\n",
       " 'ZS']"
      ]
     },
     "execution_count": 5,
     "metadata": {},
     "output_type": "execute_result"
    }
   ],
   "source": [
    "stocks = driver.find_elements(By.XPATH,'/html/body/div[2]/div/main/div[2]/article/div[2]/div/div[3]/div[3]/div[2]/table/tbody/tr/th[1]/a')\n",
    "\n",
    "stock_tickers=[]\n",
    "for stock in stocks:\n",
    "    stock_tickers.append(stock.text)\n",
    "\n",
    "stock_tickers"
   ]
  },
  {
   "cell_type": "markdown",
   "metadata": {},
   "source": [
    "## Downloading each stock data from Yahoo Finance"
   ]
  },
  {
   "cell_type": "code",
   "execution_count": 6,
   "metadata": {},
   "outputs": [],
   "source": [
    "def download_dataset(link):\n",
    "    # click button labelled \"max\" to avail maximum timeframe for data\n",
    "    driver.get(link)\n",
    "    \n",
    "    svg_element = WebDriverWait(driver, 10).until(EC.presence_of_element_located((By.CSS_SELECTOR, \"svg[data-icon='CoreArrowDown']\")))\n",
    "    svg_element.click()\n",
    "\n",
    "    button = WebDriverWait(driver, 10).until(EC.presence_of_element_located((By.XPATH, '//*[@id=\"dropdown-menu\"]/div/ul[2]/li[4]/button')))\n",
    "    button.click()\n",
    "\n",
    "    dwld_link = WebDriverWait(driver, 10).until(EC.presence_of_element_located((By.XPATH, '//*[@id=\"Col1-1-HistoricalDataTable-Proxy\"]/section/div[1]/div[2]/span[2]/a')))\n",
    "    driver.get(dwld_link.get_attribute('href'))"
   ]
  },
  {
   "cell_type": "code",
   "execution_count": 8,
   "metadata": {},
   "outputs": [
    {
     "name": "stderr",
     "output_type": "stream",
     "text": [
      "100%|██████████| 101/101 [11:12<00:00,  6.66s/it]\n"
     ]
    }
   ],
   "source": [
    "for ticker in tqdm(stock_tickers):\n",
    "    link = \"https://finance.yahoo.com/quote/\"+ticker+\"/history\"\n",
    "    download_dataset(link)"
   ]
  },
  {
   "cell_type": "code",
   "execution_count": 9,
   "metadata": {},
   "outputs": [],
   "source": [
    "driver.quit()"
   ]
  }
 ],
 "metadata": {
  "kernelspec": {
   "display_name": "base",
   "language": "python",
   "name": "python3"
  },
  "language_info": {
   "codemirror_mode": {
    "name": "ipython",
    "version": 3
   },
   "file_extension": ".py",
   "mimetype": "text/x-python",
   "name": "python",
   "nbconvert_exporter": "python",
   "pygments_lexer": "ipython3",
   "version": "3.11.7"
  }
 },
 "nbformat": 4,
 "nbformat_minor": 2
}
